{
  "nbformat": 4,
  "nbformat_minor": 0,
  "metadata": {
    "colab": {
      "provenance": []
    },
    "kernelspec": {
      "name": "python3",
      "display_name": "Python 3"
    },
    "language_info": {
      "name": "python"
    }
  },
  "cells": [
    {
      "cell_type": "markdown",
      "source": [
        "## **TripTact : An Intelligent Travel Planner Ai Agent**"
      ],
      "metadata": {
        "id": "zQbLN7dduQWU"
      }
    },
    {
      "cell_type": "code",
      "execution_count": null,
      "metadata": {
        "id": "cVSxeD_OnjuL"
      },
      "outputs": [],
      "source": [
        "from google.colab import userdata\n",
        "flight_key = userdata.get('FLIGHT_API_KEY')\n",
        "gemini_api_key = userdata.get('GEMINI_API_KEY')\n"
      ]
    },
    {
      "cell_type": "code",
      "source": [
        "%%capture --no-stderr\n",
        "%pip install --quiet -U langchain_core langgraph langchain-google-genai langchain"
      ],
      "metadata": {
        "id": "xEUU_AIYq4G3"
      },
      "execution_count": null,
      "outputs": []
    },
    {
      "cell_type": "code",
      "source": [
        "from langchain_google_genai import ChatGoogleGenerativeAI\n",
        "llm = ChatGoogleGenerativeAI(model = 'gemini-1.5-flash' , api_key=gemini_api_key , temprature = 0.2)"
      ],
      "metadata": {
        "id": "F-K5Gu69Fwll"
      },
      "execution_count": null,
      "outputs": []
    },
    {
      "cell_type": "code",
      "source": [
        "from langchain.prompts import PromptTemplate\n",
        "\n",
        "prompt_converter_template = PromptTemplate(\n",
        "    input_variables=[\"input\"],\n",
        "    template='''\n",
        "    extract the departure and destination from the following text , and if you don't find any just return None:{input}\n",
        "'''\n",
        ")\n",
        "\n"
      ],
      "metadata": {
        "id": "xo5PQVH6HMrB"
      },
      "execution_count": null,
      "outputs": []
    },
    {
      "cell_type": "code",
      "source": [
        "from typing_extensions import TypedDict\n",
        "from pydantic import BaseModel ,Field\n",
        "import re\n",
        "import requests\n",
        "from typing import List\n",
        "\n",
        "class Flight_det(TypedDict):\n",
        "    airline: List[str]\n",
        "    flight_date: List[str]\n",
        "    departure_airport: List[str]\n",
        "    departure_time: List[str]\n",
        "    arrival_airport: List[str]\n",
        "    arrival_time: List[str]\n",
        "    flight_number: List[str]\n",
        "\n",
        "class state(TypedDict):\n",
        "  prompt : str\n",
        "  departure:str\n",
        "  destination:str\n",
        "  Interests : List[str]\n",
        "  Flight_details:List[dict]\n",
        "  interests:List[str]\n",
        "  Plan:str\n",
        "\n",
        "\n",
        "\n",
        "\n",
        "class Flight(BaseModel):\n",
        "  departure:str = Field(description=\"departure location\")\n",
        "  destination:str = Field(description=\"destination location\")\n",
        "\n",
        "\n",
        "def prompt_converter(state:state):\n",
        "  prompt = state['prompt']\n",
        "\n",
        "  prompt = prompt_converter_template.format(input=prompt)\n",
        "  structured_llm = llm.with_structured_output(Flight , include_raw=False)\n",
        "  response = structured_llm.invoke(prompt)\n",
        "\n",
        "  state['departure'] = response.departure\n",
        "  state['destination'] = response.destination\n",
        "  return state\n",
        "\n",
        "def Data_Reviewer(state:state):\n",
        "  destination = state['destination']\n",
        "  departure = state['departure']\n",
        "  prompt = state['prompt']\n",
        "\n",
        "  if destination == 'None' or departure == 'None':\n",
        "    user_input = input('You have not provided the departure or destiations clearly , specify the departure and destination cit or country specifically to get the better plan')\n",
        "    state['prompt'] += user_input\n",
        "\n",
        "    return state\n",
        "\n",
        "  else :\n",
        "    return state\n",
        "\n",
        "def decide_Route(state:state):\n",
        "  destination = state['destination']\n",
        "  departure = state['departure']\n",
        "\n",
        "  if destination == 'None' or departure == 'None':\n",
        "    return \"prompt_converter\"\n",
        "  else :\n",
        "    return \"Flight_Data\"\n",
        "\n",
        "class IataCodes(BaseModel):\n",
        "  departure:str = Field(description=\"Iata code of thr airport of the departure location\")\n",
        "  destination:str = Field(description=\"Iata code of thr airport of the destination location\")\n",
        "def Flight_Data(state:state):\n",
        "\n",
        "  structured_llm = llm.with_structured_output(IataCodes , include_raw=False)\n",
        "  Flight_prompt = PromptTemplate(\n",
        "    input_variables=[\"departure\",\"destination\"],\n",
        "    template='''\n",
        "    these are the places or cities , if it is a city or a town , then check the nearest airport andreturn their iata codes for both\n",
        "    {departure} and {destination}\n",
        "'''\n",
        "  )\n",
        "  structured_llm = llm.with_structured_output(IataCodes , include_raw=False)\n",
        "  prompt = Flight_prompt.format(departure=state['departure'],destination=state['destination'])\n",
        "  response = structured_llm.invoke(prompt)\n",
        "\n",
        "  departure = response.departure\n",
        "  destination = response.destination\n",
        "  url = f'''https://api.aviationstack.com/v1/flights?access_key={flight_key}&dep_iata={departure}&arr_iata={destination}&limit=3'''\n",
        "\n",
        "\n",
        "\n",
        "  Dataset = requests.get(url)\n",
        "  Data = Dataset.json()\n",
        "\n",
        "  if 'data' in Data and Data['data']:\n",
        "    state = {}\n",
        "    state['Flight_details'] = []  # Initialize as a list to store multiple flight details\n",
        "    flight_data = Data['data']  # Assuming Data contains your flights\n",
        "\n",
        "    for flight in flight_data:\n",
        "        flight_details = {\n",
        "            \"airline\": flight['airline']['name'],\n",
        "            \"flight_date\": flight['flight_date'],\n",
        "            \"departure_airport\": flight['departure']['airport'],\n",
        "            \"departure_time\": flight['departure']['scheduled'],\n",
        "            \"arrival_airport\": flight['arrival']['airport'],\n",
        "            \"arrival_time\": flight['arrival']['scheduled'],\n",
        "            \"flight_number\": flight['flight']['number']\n",
        "        }\n",
        "        state['Flight_details'].append(flight_details)  # Append each flight's details\n",
        "\n",
        "    return state  # Returns the complete state after all flights have been added\n",
        "\n",
        "  else:\n",
        "    print('Sorry! We could not find any flight data due to some issues')\n",
        "\n",
        "\n",
        "def Planner(state:state):\n",
        "  destination : state['destination']\n",
        "  interests : state['interests']\n",
        "  prompt_template = PromptTemplate(\n",
        "    input_variables=[\"interests\" , \"destination\"],\n",
        "    template='''\n",
        "    Create a three day plan as i am visiting the : {destination} and my interests are :{interests} , Suggest me places and schedule my day make a timetable , from morning to evening\n",
        "'''\n",
        "  )\n",
        "  prompt = prompt_template.format(interests=state['interests'],destination=state['destination'])\n",
        "  response = llm.invoke(prompt)\n",
        "  state['Plan'] = response\n",
        "  return state\n",
        "\n",
        "\n",
        "\n",
        "\n"
      ],
      "metadata": {
        "id": "M3ZI6yY4GBi4",
        "collapsed": true
      },
      "execution_count": null,
      "outputs": []
    },
    {
      "cell_type": "code",
      "source": [
        "from IPython.display import Image, display\n",
        "from langgraph.graph import START, END, StateGraph\n",
        "from langgraph.checkpoint.memory import MemorySaver\n",
        "builder = StateGraph(state)\n",
        "builder.add_node('prompt_converter', prompt_converter)\n",
        "builder.add_node('Data_Reviewer', Data_Reviewer)\n",
        "builder.add_node('Flight_Data', Flight_Data)\n",
        "builder.add_node('Planner', Planner)\n",
        "builder.add_edge(START, 'prompt_converter')\n",
        "builder.add_edge('prompt_converter', 'Data_Reviewer')\n",
        "builder.add_conditional_edges('Data_Reviewer' , decide_Route , ['prompt_converter' , 'Flight_Data'])\n",
        "builder.add_edge('Flight_Data', 'Planner')\n",
        "builder.add_edge('Planner',END)\n",
        "graph = builder.compile()\n",
        "display(Image(graph.get_graph(xray=5).draw_mermaid_png()))\n"
      ],
      "metadata": {
        "colab": {
          "base_uri": "https://localhost:8080/",
          "height": 548
        },
        "id": "7RNr1U75g8t6",
        "outputId": "3c96729b-fac5-44f9-aee1-91a7ae858a0a"
      },
      "execution_count": null,
      "outputs": [
        {
          "output_type": "display_data",
          "data": {
            "image/jpeg": "[encoded data removed]",
            "text/plain": [
              "<IPython.core.display.Image object>"
            ]
          },
          "metadata": {}
        }
      ]
    },
    {
      "cell_type": "code",
      "source": [
        "ui = graph.invoke({\"prompt\":\"Plan a travel trip to makkah for umrah from islamabad \" , \"interests\":[\"mosques\" , \"food\" , \"relegion\"]})"
      ],
      "metadata": {
        "colab": {
          "base_uri": "https://localhost:8080/"
        },
        "id": "ZN1Z618rCuVk",
        "outputId": "20f08f12-c346-435d-de37-dc385d08781b"
      },
      "execution_count": 34,
      "outputs": [
        {
          "output_type": "stream",
          "name": "stdout",
          "text": [
            "{'name': 'Flight', 'parameters': {'type_': 6, 'properties': {'destination': {'type_': 1, 'description': 'destination location', 'format_': '', 'nullable': False, 'enum': [], 'max_items': '0', 'min_items': '0', 'properties': {}, 'required': []}, 'departure': {'type_': 1, 'description': 'departure location', 'format_': '', 'nullable': False, 'enum': [], 'max_items': '0', 'min_items': '0', 'properties': {}, 'required': []}}, 'required': ['departure', 'destination'], 'format_': '', 'description': '', 'nullable': False, 'enum': [], 'max_items': '0', 'min_items': '0'}, 'description': ''}\n",
            "{'name': 'IataCodes', 'parameters': {'type_': 6, 'properties': {'departure': {'type_': 1, 'description': 'Iata code of thr airport of the departure location', 'format_': '', 'nullable': False, 'enum': [], 'max_items': '0', 'min_items': '0', 'properties': {}, 'required': []}, 'destination': {'type_': 1, 'description': 'Iata code of thr airport of the destination location', 'format_': '', 'nullable': False, 'enum': [], 'max_items': '0', 'min_items': '0', 'properties': {}, 'required': []}}, 'required': ['departure', 'destination'], 'format_': '', 'description': '', 'nullable': False, 'enum': [], 'max_items': '0', 'min_items': '0'}, 'description': ''}\n"
          ]
        }
      ]
    },
    {
      "cell_type": "code",
      "source": [
        "import textwrap\n",
        "from IPython.display import display\n",
        "from IPython.display import Markdown\n",
        "\n",
        "def toMarkDown(text:str)->Markdown:\n",
        "  text.replace('•' , '  *')\n",
        "  return Markdown(textwrap.indent(text , ' >' , predicate=lambda _:True))"
      ],
      "metadata": {
        "id": "mziGK13Prz_r"
      },
      "execution_count": 35,
      "outputs": []
    },
    {
      "cell_type": "code",
      "source": [
        "def display_trip_details(state):\n",
        "    # Displaying the trip prompt\n",
        "    print(f\"Trip Plan: {state['prompt']}\")\n",
        "    print(f\"Departure: {state['departure']}\")\n",
        "    print(f\"Destination: {state['destination']}\")\n",
        "    print(\"\\nFlight Details:\")\n",
        "\n",
        "    # Loop through each flight in the 'Flight_details' list\n",
        "    for index, flight in enumerate(state['Flight_details'], start=1):\n",
        "        print(f\"\\nFlight {index}:\")\n",
        "        print(f\"  Airline: {flight['airline']}\")\n",
        "        print(f\"  Flight Date: {flight['flight_date']}\")\n",
        "        print(f\"  Departure Airport: {flight['departure_airport']}\")\n",
        "        print(f\"  Departure Time: {flight['departure_time']}\")\n",
        "        print(f\"  Arrival Airport: {flight['arrival_airport']}\")\n",
        "        print(f\"  Arrival Time: {flight['arrival_time']}\")\n",
        "        print(f\"  Flight Number: {flight['flight_number']}\")\n",
        "\n",
        "    # Displaying the user's interests\n",
        "    print(\"\\nInterests:\")\n",
        "    for interest in state['interests']:\n",
        "        print(f\"  - {interest}\")\n",
        "\n",
        "    # Displaying the generated trip plan content\n",
        "    print(\"\\nGenerated Trip Plan:\")\n",
        "    display(toMarkDown(state['Plan'].content))\n",
        "     # Print the content of the AI-generated itinerary\n",
        "\n",
        "# Call the function with your state dictionary\n",
        "display_trip_details(ui)"
      ],
      "metadata": {
        "id": "q9o9TpDrrEhs",
        "outputId": "c92e7fd4-0a27-4f6b-b8b6-c3303e381252",
        "colab": {
          "base_uri": "https://localhost:8080/",
          "height": 1000
        }
      },
      "execution_count": 33,
      "outputs": [
        {
          "output_type": "stream",
          "name": "stdout",
          "text": [
            "Trip Plan: Plan a travel trip to makkah for umrah from islamabad \n",
            "Departure: islamabad\n",
            "Destination: makkah\n",
            "\n",
            "Flight Details:\n",
            "\n",
            "Flight 1:\n",
            "  Airline: Alitalia\n",
            "  Flight Date: 2024-10-28\n",
            "  Departure Airport: Islamabad International\n",
            "  Departure Time: 2024-10-28T02:00:00+00:00\n",
            "  Arrival Airport: King Abdulaziz International\n",
            "  Arrival Time: 2024-10-28T05:45:00+00:00\n",
            "  Flight Number: 5219\n",
            "\n",
            "Flight 2:\n",
            "  Airline: Serene Air\n",
            "  Flight Date: 2024-10-28\n",
            "  Departure Airport: Islamabad International\n",
            "  Departure Time: 2024-10-28T07:05:00+00:00\n",
            "  Arrival Airport: King Abdulaziz International\n",
            "  Arrival Time: 2024-10-28T10:40:00+00:00\n",
            "  Flight Number: 801\n",
            "\n",
            "Flight 3:\n",
            "  Airline: Alitalia\n",
            "  Flight Date: 2024-10-28\n",
            "  Departure Airport: Islamabad International\n",
            "  Departure Time: 2024-10-28T10:55:00+00:00\n",
            "  Arrival Airport: King Abdulaziz International\n",
            "  Arrival Time: 2024-10-28T14:40:00+00:00\n",
            "  Flight Number: 5433\n",
            "\n",
            "Interests:\n",
            "  - mosques\n",
            "  - food\n",
            "  - relegion\n",
            "\n",
            "Generated Trip Plan:\n"
          ]
        },
        {
          "output_type": "display_data",
          "data": {
            "text/plain": [
              "<IPython.core.display.Markdown object>"
            ],
            "text/markdown": " >## Makkah 3-Day Itinerary for Mosques, Food, and Religion:\n >\n >**Day 1: The Grand Mosque & Spiritual Journey**\n >\n >* **Morning (7:00 AM - 12:00 PM):**\n >    * Begin your day with a visit to the **Masjid al-Haram**, the holiest mosque in Islam. \n >    * Perform Umrah (if you are a Muslim), or simply marvel at the grandeur of the mosque and its Kaaba, the direction Muslims face during prayer.\n >    * Explore the different levels of the mosque, including the surrounding courtyards and prayer areas.\n >    * Take time to reflect and pray in this sacred space.\n >* **Lunch (12:00 PM - 1:00 PM):**\n >    * Enjoy a traditional Saudi lunch at one of the many restaurants near the mosque. Try dishes like Mandi, Kabsa, or Madfoon. \n >* **Afternoon (1:00 PM - 5:00 PM):**\n >    * Visit the **Masjid al-Quba**, the first mosque built by Prophet Muhammad (PBUH).\n >    * Reflect on the history and significance of this mosque.\n >    * Take a stroll through the nearby markets and experience the local atmosphere.\n >* **Evening (5:00 PM - 8:00 PM):**\n >    * Attend **Maghrib prayer** at the Masjid al-Haram.\n >    * Enjoy a delicious dinner at one of the many restaurants in the area.\n >    * Spend the evening reflecting on your spiritual journey and experiencing the unique ambiance of Makkah.\n >\n >**Day 2: Historical Sites & Cultural Exploration**\n >\n >* **Morning (7:00 AM - 12:00 PM):**\n >    * Explore the **Jannat al-Mu'alla cemetery**, the resting place of many prominent figures from Islamic history, including the Prophet's (PBUH) wives. \n >    * Visit the **Masjid Aisha**, located near the cemetery, a mosque with a rich historical significance.\n >    * Learn about the history and significance of these locations from local guides or online resources.\n >* **Lunch (12:00 PM - 1:00 PM):**\n >    * Enjoy a lunch break at a local restaurant, trying authentic Saudi dishes.\n >* **Afternoon (1:00 PM - 5:00 PM):**\n >    * Visit the **Abraham's Well**, a sacred site believed to be where Prophet Abraham (PBUH) found water in Makkah.\n >    * Learn about the Abrahamic traditions and the significance of this site.\n >    * Explore the **Abrahamic Family House**, a multi-faith center promoting dialogue and understanding.\n >* **Evening (5:00 PM - 8:00 PM):**\n >    * Attend **Isha prayer** at the Masjid al-Haram.\n >    * Enjoy a traditional Saudi dinner and browse the local markets for souvenirs.\n >\n >**Day 3: Reflecting & Departing**\n >\n >* **Morning (7:00 AM - 12:00 PM):**\n >    * Spend the morning reflecting on your experiences and the lessons learned during your trip.\n >    * Visit the **Masjid al-Haram** one last time to pray and say goodbye.\n >    * Consider attending a **Khutbah** (sermon) at the mosque to gain further insight into Islamic teachings.\n >* **Lunch (12:00 PM - 1:00 PM):**\n >    * Enjoy a final lunch at a local restaurant, savoring the flavors of Makkah.\n >* **Afternoon (1:00 PM - 5:00 PM):**\n >    * Explore the **Makkah Museum**, learning about the city's history and culture.\n >    * Visit the **Makkah Clock Tower**, offering panoramic views of the city.\n >* **Evening (5:00 PM - 8:00 PM):**\n >    * Depart from Makkah, carrying with you the memories and spiritual enrichment of your journey.\n >\n >**Important Notes:**\n >\n >* This itinerary is flexible and can be adjusted based on your personal interests and time constraints.\n >* Remember to dress modestly and respectfully when visiting mosques and other sacred sites.\n >* Be mindful of prayer times and adjust your schedule accordingly.\n >* Take advantage of the numerous tour guides and resources available to enhance your understanding of Makkah.\n >* Enjoy the delicious and diverse food scene in Makkah, trying local delicacies and traditional dishes.\n >\n >**Bonus Tip:**\n >\n >* Consider taking a guided tour of the Masjid al-Haram to learn about its history and architecture in detail.\n >\n >This itinerary provides a framework for a meaningful and enriching journey to Makkah, allowing you to explore the city's mosques, food, and religious significance while connecting with your faith and experiencing the unique culture of Saudi Arabia."
          },
          "metadata": {}
        }
      ]
    }
  ]
}